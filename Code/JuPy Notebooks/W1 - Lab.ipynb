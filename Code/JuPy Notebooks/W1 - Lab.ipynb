{
 "cells": [
  {
   "cell_type": "markdown",
   "metadata": {},
   "source": [
    "## Week 1\n",
    "\n",
    "### Arrays & Sorting"
   ]
  },
  {
   "cell_type": "markdown",
   "metadata": {},
   "source": [
    "[242.Valid Anagram](https://leetcode.com/problems/valid-anagram/)\n",
    "\n",
    "Given two strings s and t, return true if t is an anagram of s, and false otherwise.\n",
    "\n",
    "**Example 1:**\n",
    "Input: s = \"anagram\", t = \"nagaram\"\n",
    "Output: true\n",
    "\n",
    "**Example 2:**\n",
    "Input: s = \"rat\", t = \"car\"\n",
    "Output: false"
   ]
  },
  {
   "cell_type": "code",
   "execution_count": 18,
   "metadata": {},
   "outputs": [],
   "source": [
    "def isAnagram(s, t):\n",
    "    \n",
    "    # Approach 1 - Use Counter from Collections\n",
    "    from collections import Counter\n",
    "    if Counter(s) == Counter(t):\n",
    "        return True\n",
    "    return False\n",
    "    \n",
    "    # Approach 2 - Implement Counter and Compare the Counter objects for the two strings        \n",
    "    def Counter(st):\n",
    "        d = {}\n",
    "        for i in st:\n",
    "            if i in d:\n",
    "                d[i] += 1\n",
    "            else:\n",
    "                d[i] = 1\n",
    "        return d\n",
    "\n",
    "    if len(s) == len(t):\n",
    "        s_ = Counter(s)\n",
    "        t_ = Counter(t)\n",
    "        if s_ == t_:\n",
    "            return True\n",
    "        else:\n",
    "            return False\n",
    "    else:\n",
    "        False"
   ]
  },
  {
   "cell_type": "code",
   "execution_count": null,
   "metadata": {},
   "outputs": [],
   "source": []
  },
  {
   "cell_type": "markdown",
   "metadata": {},
   "source": [
    "[88. Merge Sorted Array](https://leetcode.com/problems/merge-sorted-array/)\n",
    "\n",
    "You are given two integer arrays nums1 and nums2, sorted in non-decreasing order, and two integers m and n, representing the number of elements in nums1 and nums2 respectively.\n",
    "\n",
    "Merge nums1 and nums2 into a single array sorted in non-decreasing order.\n",
    "\n",
    "The final sorted array should not be returned by the function, but instead be stored inside the array nums1. To accommodate this, nums1 has a length of m + n, where the first m elements denote the elements that should be merged, and the last n elements are set to 0 and should be ignored. nums2 has a length of n.\n",
    "\n",
    "**Example 1:**\n",
    "Input: nums1 = [1,2,3,0,0,0], m = 3, nums2 = [2,5,6], n = 3\n",
    "Output: [1,2,2,3,5,6]\n",
    "Explanation: The arrays we are merging are [1,2,3] and [2,5,6].\n",
    "The result of the merge is [1,2,2,3,5,6] with the underlined elements coming from nums1.\n",
    "\n",
    "**Example 2:**\n",
    "Input: nums1 = [1], m = 1, nums2 = [], n = 0\n",
    "Output: [1]\n",
    "Explanation: The arrays we are merging are [1] and [].\n",
    "The result of the merge is [1].\n",
    "\n",
    "**Example 3:**\n",
    "Input: nums1 = [0], m = 0, nums2 = [1], n = 1\n",
    "Output: [1]\n",
    "Explanation: The arrays we are merging are [] and [1].\n",
    "The result of the merge is [1].\n",
    "Note that because m = 0, there are no elements in nums1. The 0 is only there to ensure the merge result can fit in nums1."
   ]
  },
  {
   "cell_type": "code",
   "execution_count": 2,
   "metadata": {},
   "outputs": [],
   "source": [
    "def merge(nums1, m, nums2, n):\n",
    "    \"\"\"\n",
    "    Do not return anything, modify nums1 in-place instead.\n",
    "    \"\"\"\n",
    "    # Approach 1: Three pointer approach\n",
    "    p1, p2, p3 = m - 1, n - 1, len(nums1) - 1\n",
    "    while p1 >= 0 and p2 >= 0:\n",
    "        if nums2[p2] > nums1[p1]:\n",
    "            nums1[p3] = nums2[p2]\n",
    "            p2 -= 1\n",
    "        else:\n",
    "            nums1[p3] = nums1[p1]\n",
    "            p1 -= 1\n",
    "        p3 -= 1\n",
    "    nums1[:p2 + 1] = nums2[:p2 + 1]\n",
    "    \n",
    "    \n",
    "    # Approach 2: Using m and n instead of pointers\n",
    "    last = m + n -1\n",
    "    while m > 0 and n > 0:\n",
    "        if nums1[m - 1] > nums2[n - 1]:\n",
    "            nums1[last] = nums1[m - 1]\n",
    "            m = m - 1\n",
    "        else:\n",
    "            nums1[last] = nums2[n - 1]\n",
    "            n = n - 1\n",
    "        last = last - 1\n",
    "\n",
    "    while n > 0:\n",
    "        nums1[last] = nums2[n-1]\n",
    "        n = n - 1\n",
    "        last = last - 1\n",
    "\n",
    "    return nums1"
   ]
  },
  {
   "cell_type": "code",
   "execution_count": null,
   "metadata": {},
   "outputs": [],
   "source": []
  },
  {
   "cell_type": "markdown",
   "metadata": {},
   "source": [
    "[1512. Number of Good Pairs](https://leetcode.com/problems/number-of-good-pairs/)\n",
    "\n",
    "Given an array of integers nums, return the number of good pairs.\n",
    "\n",
    "A pair (i, j) is called good if nums[i] == nums[j] and i < j.\n",
    "\n",
    "**Example 1:**\n",
    "Input: nums = [1,2,3,1,1,3]\n",
    "Output: 4\n",
    "Explanation: There are 4 good pairs (0,3), (0,4), (3,4), (2,5) 0-indexed.\n",
    "\n",
    "**Example 2:**\n",
    "Input: nums = [1,1,1,1]\n",
    "Output: 6\n",
    "Explanation: Each pair in the array are good.\n",
    "\n",
    "**Example 3:**\n",
    "Input: nums = [1,2,3]\n",
    "Output: 0"
   ]
  },
  {
   "cell_type": "code",
   "execution_count": 20,
   "metadata": {},
   "outputs": [],
   "source": [
    "def numIdenticalPairs(nums):\n",
    "    # Approach 1: O(n^2)\n",
    "    # For each element in nums\n",
    "    # Check for all combinations and increment the count\n",
    "    count_ = 0\n",
    "    for i in range(len(nums)):\n",
    "        for j in range(len(nums)):\n",
    "            if nums[i] == nums[j] and i < j:\n",
    "                count_ = count_ + 1\n",
    "    return count_\n",
    "    \n",
    "    # Approach 2: O(m+n)\n",
    "    # Using defaultdict\n",
    "    # n is size of array and m is size of duplicates in array\n",
    "    # For each element in nums\n",
    "    # Using default dict, update occurances of each element \n",
    "    # For values in dict, number of good pairs can be calculated by num(num-1)//2\n",
    "    from collections import defaultdict\n",
    "    count_ = 0\n",
    "    d_ = defaultdict(int)\n",
    "\n",
    "    for num in nums:\n",
    "        if num in nums:\n",
    "            d_[num] += 1\n",
    "\n",
    "    for num in d_.values():\n",
    "        count_ += (num*(num-1))//2\n",
    "    return count_"
   ]
  },
  {
   "cell_type": "code",
   "execution_count": 21,
   "metadata": {},
   "outputs": [
    {
     "data": {
      "text/plain": [
       "4"
      ]
     },
     "execution_count": 21,
     "metadata": {},
     "output_type": "execute_result"
    }
   ],
   "source": [
    "numIdenticalPairs([1,2,3,1,1,3])"
   ]
  },
  {
   "cell_type": "code",
   "execution_count": null,
   "metadata": {},
   "outputs": [],
   "source": []
  },
  {
   "cell_type": "markdown",
   "metadata": {},
   "source": [
    "[1365. Number Smaller Than Current Number](https://leetcode.com/problems/how-many-numbers-are-smaller-than-the-current-number/)\n",
    "\n",
    "Given the array nums, for each nums[i] find out how many numbers in the array are smaller than it. That is, for each nums[i] you have to count the number of valid j's such that j != i and nums[j] < nums[i].\n",
    "\n",
    "Return the answer in an array.\n",
    "\n",
    "**Example 1:**\n",
    "Input: nums = [8,1,2,2,3]\n",
    "Output: [4,0,1,1,3]\n",
    "Explanation: \n",
    "For nums[0]=8 there exist four smaller numbers than it (1, 2, 2 and 3). \n",
    "For nums[1]=1 does not exist any smaller number than it.\n",
    "For nums[2]=2 there exist one smaller number than it (1). \n",
    "For nums[3]=2 there exist one smaller number than it (1). \n",
    "For nums[4]=3 there exist three smaller numbers than it (1, 2 and 2).\n",
    "\n",
    "**Example 2:**\n",
    "Input: nums = [6,5,4,8]\n",
    "Output: [2,1,0,3]\n",
    "\n",
    "**Example 3:**\n",
    "Input: nums = [7,7,7,7]\n",
    "Output: [0,0,0,0]"
   ]
  },
  {
   "cell_type": "code",
   "execution_count": 15,
   "metadata": {},
   "outputs": [],
   "source": [
    "def smallerNumbersThanCurrent(nums):\n",
    "    # Approach 1: O(n^2)\n",
    "    # For each element in nums\n",
    "    # Check for all combinations and increment the count\n",
    "    ls = []\n",
    "    for i in range(len(nums)):\n",
    "        count = 0\n",
    "        for j in range(len(nums)):\n",
    "            if i != j and nums[j] < nums[i]:\n",
    "                count += 1\n",
    "        ls.append(count)\n",
    "    return ls\n",
    "\n",
    "    # Approach 2: O(n + log n) = O(n)\n",
    "    # log n is complexity for sorted(array)\n",
    "    # For each element in nums\n",
    "    # Append their indices from the sorted nums_ array\n",
    "    ls = []\n",
    "    nums_ = sorted(nums)\n",
    "    for i in nums:\n",
    "        ls.append(nums_.index(i))\n",
    "    return ls"
   ]
  },
  {
   "cell_type": "code",
   "execution_count": 16,
   "metadata": {},
   "outputs": [
    {
     "data": {
      "text/plain": [
       "[4, 0, 1, 1, 3]"
      ]
     },
     "execution_count": 16,
     "metadata": {},
     "output_type": "execute_result"
    }
   ],
   "source": [
    "smallerNumbersThanCurrent([8,1,2,2,3])"
   ]
  }
 ],
 "metadata": {
  "kernelspec": {
   "display_name": "Python 3",
   "language": "python",
   "name": "python3"
  },
  "language_info": {
   "codemirror_mode": {
    "name": "ipython",
    "version": 3
   },
   "file_extension": ".py",
   "mimetype": "text/x-python",
   "name": "python",
   "nbconvert_exporter": "python",
   "pygments_lexer": "ipython3",
   "version": "3.8.3"
  }
 },
 "nbformat": 4,
 "nbformat_minor": 4
}
