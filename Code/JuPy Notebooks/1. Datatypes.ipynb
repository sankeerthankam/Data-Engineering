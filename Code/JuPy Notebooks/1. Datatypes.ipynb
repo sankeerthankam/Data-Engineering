{
 "cells": [
  {
   "cell_type": "markdown",
   "metadata": {},
   "source": [
    "## Index\n",
    "\n",
    "1. Arrays\n",
    "2. 2D Arrays\n",
    "3. Circular Arrays\n",
    "4. Hashtable\n",
    "5. Linked List"
   ]
  },
  {
   "cell_type": "markdown",
   "metadata": {},
   "source": [
    "## 1. Arrays"
   ]
  },
  {
   "cell_type": "markdown",
   "metadata": {},
   "source": [
    "Suppose you have a sorted list of 128 names, and you’re searching through it using binary search. What’s the maximum number of steps it would take?\n",
    "7\n",
    "\n",
    "Suppose you double the size of the list. What’s the maximum number of steps now?\n",
    "8\n",
    "\n",
    "You have a name, and you want to find the person’s phone number in the phone book.\n",
    "(log n)\n",
    "\n",
    "You have a phone number, and you want to find the person’s name in the phone book. (Hint: You’ll have to search through the whole book!)\n",
    "(n)\n",
    "\n",
    "You want to read the numbers of every person in the phone book.\n",
    "(n)\n",
    "\n",
    "You want to read the numbers of just the As. (This is a tricky one! It involves concepts that are covered more in chapter 4. Read the answer—you may be surprised!)\n",
    "(n/26) = (n) Coz 1/26 is a constant"
   ]
  },
  {
   "cell_type": "code",
   "execution_count": 1,
   "metadata": {},
   "outputs": [],
   "source": [
    "# ls.append extends memory by adding the new element to the end but has to find a new memory to allocate for n+1 size\n",
    "ls = []"
   ]
  },
  {
   "cell_type": "code",
   "execution_count": 3,
   "metadata": {},
   "outputs": [],
   "source": [
    "# Indices starting at 0 through n-1 \n",
    "# Indices ending from n-1 to 0\n",
    "# Slicing (Memorize)\n",
    "ls = []\n",
    "ls = [[0, 0], [0, 1]]"
   ]
  },
  {
   "cell_type": "code",
   "execution_count": 4,
   "metadata": {},
   "outputs": [
    {
     "name": "stdout",
     "output_type": "stream",
     "text": [
      "[[0, 0], [0, 1]]\n"
     ]
    }
   ],
   "source": [
    "print(ls)"
   ]
  },
  {
   "cell_type": "code",
   "execution_count": 5,
   "metadata": {},
   "outputs": [],
   "source": [
    "# Delete by index\n",
    "ls.pop(0)\n",
    "\n",
    "# Delete by element\n",
    "ls.remove('Apple')"
   ]
  },
  {
   "cell_type": "code",
   "execution_count": 8,
   "metadata": {},
   "outputs": [
    {
     "data": {
      "text/plain": [
       "[2, 1, 0]"
      ]
     },
     "execution_count": 8,
     "metadata": {},
     "output_type": "execute_result"
    }
   ],
   "source": [
    "# Reverse a list\n",
    "ls = [0, 1, 2]\n",
    "ls[::-1]"
   ]
  },
  {
   "cell_type": "code",
   "execution_count": null,
   "metadata": {},
   "outputs": [],
   "source": []
  },
  {
   "cell_type": "code",
   "execution_count": null,
   "metadata": {},
   "outputs": [],
   "source": []
  },
  {
   "cell_type": "markdown",
   "metadata": {},
   "source": [
    "## 2. 2D-Arrays"
   ]
  },
  {
   "cell_type": "code",
   "execution_count": 5,
   "metadata": {},
   "outputs": [
    {
     "name": "stdout",
     "output_type": "stream",
     "text": [
      "[11, 12, 5, 2]\n",
      "12\n"
     ]
    }
   ],
   "source": [
    "# 2D Arrays\n",
    "T = [[]]\n",
    "T = [[11, 12, 5, 2], [15, 6,10], [10, 8, 12, 5], [12,15,8,6]]\n",
    "print(T[0])\n",
    "print(T[0][1])"
   ]
  },
  {
   "cell_type": "code",
   "execution_count": 9,
   "metadata": {},
   "outputs": [
    {
     "name": "stdout",
     "output_type": "stream",
     "text": [
      "[[0, 0, 0, 0, 0], [0, 0, 0, 0, 0], [0, 0, 0, 0, 0], [0, 0, 0, 0, 0], [0, 0, 0, 0, 0]]\n"
     ]
    }
   ],
   "source": [
    "# Method I\n",
    "# Using above first method to create a 2D array\n",
    "rows, cols = (5, 5)\n",
    "arr = [[0]*cols]*rows\n",
    "print(arr)"
   ]
  },
  {
   "cell_type": "code",
   "execution_count": 10,
   "metadata": {},
   "outputs": [
    {
     "name": "stdout",
     "output_type": "stream",
     "text": [
      "[[0, 0, 0, 0, 0], [0, 0, 0, 0, 0], [0, 0, 0, 0, 0], [0, 0, 0, 0, 0], [0, 0, 0, 0, 0]]\n"
     ]
    }
   ],
   "source": [
    "# Method II\n",
    "# Using above second method to create a 2D array\n",
    "rows, cols = (5, 5)\n",
    "arr = [[0 for i in range(cols)] for j in range(rows)]\n",
    "print(arr)"
   ]
  },
  {
   "cell_type": "code",
   "execution_count": 75,
   "metadata": {},
   "outputs": [
    {
     "name": "stdout",
     "output_type": "stream",
     "text": [
      "[[0, 0, 0, 0, 0], [0, 0, 0, 0, 0], [0, 0, 0, 0, 0], [0, 0, 0, 0, 0], [0, 0, 0, 0, 0]]\n"
     ]
    }
   ],
   "source": [
    "# Using above second method to create a\n",
    "# 2D array\n",
    "rows, cols = (5, 5)\n",
    "arr=[]\n",
    "for i in range(rows):\n",
    "    col = []\n",
    "    for j in range(cols):\n",
    "        col.append(0)\n",
    "    arr.append(col)\n",
    "print(arr)"
   ]
  },
  {
   "cell_type": "markdown",
   "metadata": {},
   "source": [
    "Both the ways give seemingly same output as of now. Lets change one of the elements in the array of method I and method II.\n",
    "\n",
    "In method I, Python doesn’t create 5 integer objects but creates only one integer object and all the indices of the array arr point to the same int object as shown. \n",
    "\n",
    "If we assign the 0th index to a another integer say 1, then a new integer object is created with the value of 1 and then the 0th index now points to this new int object as shown below\n",
    "\n",
    "Similarly, when we create a 2d array as “arr = [[0]*cols]*rows” we are essentially the extending the above analogy. \n",
    "1. Only one integer object is created. \n",
    "2. A single 1d list is created and all its indices point to the same int object in point 1. \n",
    "3. Now, arr[0], arr[1], arr[2] …. arr[n-1] all point to the same list object above in point 2.\n",
    "The above setup can be visualized in the image below.\n",
    "\n",
    "So when 2d arrays are created like this, changing values at a certain row will effect all the rows since there is essentially only one integer object and only one list object being referenced by the all the rows of the array.\n",
    "As you would expect, tracing out errors caused by such usage of shallow lists is difficult. Hence the better way to declare a 2d array is "
   ]
  },
  {
   "cell_type": "code",
   "execution_count": 12,
   "metadata": {},
   "outputs": [],
   "source": [
    "rows, cols = (5, 5)\n",
    "arr = [[0 for i in range(cols)] for j in range(rows)]"
   ]
  },
  {
   "cell_type": "code",
   "execution_count": 74,
   "metadata": {},
   "outputs": [
    {
     "name": "stdout",
     "output_type": "stream",
     "text": [
      "11 12 5 2 \n",
      "15 6 10 \n",
      "0 5 11 13 6 \n",
      "10 8 12 5 \n"
     ]
    }
   ],
   "source": [
    "# Inserting Values - insert()\n",
    "\n",
    "T.insert(2, [0,5,11,13,6])\n",
    "\n",
    "for r in T:\n",
    "    for c in r:\n",
    "        print(c,end = \" \")\n",
    "    print()"
   ]
  },
  {
   "cell_type": "code",
   "execution_count": null,
   "metadata": {},
   "outputs": [],
   "source": []
  },
  {
   "cell_type": "code",
   "execution_count": null,
   "metadata": {},
   "outputs": [],
   "source": []
  },
  {
   "cell_type": "markdown",
   "metadata": {},
   "source": [
    "## 3. Circular Arrays"
   ]
  },
  {
   "cell_type": "markdown",
   "metadata": {},
   "source": [
    "An array is called circular if we consider the first element as next of the last element. Circular arrays are used to implement queue (Refer to this and this).\n",
    "An example problem : \n",
    "Suppose n people are sitting at a circular table with names A, B, C, D, … Given a name, we need to print all n people (in order) starting from the given name. \n",
    "\n",
    "For example, consider 6 people A B C D E F and given name as ‘D’. People sitting in a circular manner starting from D are D E F A B C.\n",
    "A simple solution is to create an auxiliary array of size 2*n and store it in another array. For example for 6 people, we create below the auxiliary array. \n",
    "A B C D E F A B C D E F \n",
    "Now for any given index, we simply print n elements starting from it. For example, we print the following 6. \n",
    "A B C D E F A B C D E F \n",
    "\n",
    "Below is the implementation of the above approach."
   ]
  },
  {
   "cell_type": "code",
   "execution_count": 22,
   "metadata": {},
   "outputs": [
    {
     "name": "stdout",
     "output_type": "stream",
     "text": [
      "1\n"
     ]
    }
   ],
   "source": [
    "a = [1,2,3]\n",
    "# a[0] = 1\n",
    "# a[1] = 2\n",
    "# a[2] = 3\n",
    "# a[3] = 1\n",
    "# a[4] = 2\n",
    "# print(a [index % len(a)] )\n",
    "print(a[3 % len(a)])"
   ]
  },
  {
   "cell_type": "code",
   "execution_count": 76,
   "metadata": {},
   "outputs": [
    {
     "name": "stdout",
     "output_type": "stream",
     "text": [
      "D E F A B C "
     ]
    }
   ],
   "source": [
    "# Circular array using extra memory space\n",
    "\n",
    "def prints(a, n, ind):\n",
    "    b = [None]*2*n\n",
    "    i = 0\n",
    "    # Copy a[] to b[] two times\n",
    "    while i < n:\n",
    "        b[i] = b[n + i] = a[i]\n",
    "        i = i + 1\n",
    "    i = ind\n",
    "    while i < n + ind :\n",
    "        print(b[i], end = \" \");\n",
    "        i = i + 1\n",
    "\n",
    "a = ['A', 'B', 'C', 'D', 'E', 'F']\n",
    "n = len(a);\n",
    "prints(a, n, 3);"
   ]
  },
  {
   "cell_type": "markdown",
   "metadata": {},
   "source": [
    "This approach takes of O(n) time but takes extra space of order O(n)\n",
    "\n",
    "An efficient solution is to deal with circular arrays using the same array. If a careful observation is run through the array, then after n-th index, the next index always starts from 0 so using the mod operator, we can easily access the elements of the circular list, if we use (i)%n and run the loop from i-th index to n+i-th index. and apply mod we can do the traversal in a circular array within the given array without using any extra space. "
   ]
  },
  {
   "cell_type": "code",
   "execution_count": 77,
   "metadata": {},
   "outputs": [
    {
     "name": "stdout",
     "output_type": "stream",
     "text": [
      "D E F A B C "
     ]
    }
   ],
   "source": [
    "# Circular array without using extra memory space\n",
    "def prints(a, n, ind):\n",
    "    i = ind    \n",
    "    # print from ind-th index to (n+i)th index.\n",
    "    while i < n + ind :\n",
    "        print(a[(i % n)], end = \" \")\n",
    "        i = i + 1\n",
    "\n",
    "a = ['A', 'B', 'C', 'D', 'E', 'F']\n",
    "n = len(a);\n",
    "prints(a, n, 3);"
   ]
  },
  {
   "cell_type": "code",
   "execution_count": 35,
   "metadata": {},
   "outputs": [],
   "source": [
    "def circularArray(arr, k):\n",
    "    result = []\n",
    "    n = len(arr)\n",
    "#     k = k % n\n",
    "    for i in arr:\n",
    "        print(i)\n",
    "        result.append(arr[n-k+i]%n)\n",
    "    return result"
   ]
  },
  {
   "cell_type": "markdown",
   "metadata": {},
   "source": [
    "Playlist:\n",
    "\n",
    "https://www.youtube.com/watch?v=uvD9_Wdtjtw&t=293s\n",
    "\n",
    "https://www.youtube.com/watch?v=39HHWATPcwY&t=259s\n",
    "\n",
    "https://www.youtube.com/watch?v=def3bnISlnU\n",
    "\n",
    "https://www.geeksforgeeks.org/program-to-find-number-of-squares-on-a-chessboard/#:~:text=Therefore%2C%20we%20have%20in%20all,204%20squares%20in%20a%20chessboard."
   ]
  },
  {
   "cell_type": "code",
   "execution_count": null,
   "metadata": {},
   "outputs": [],
   "source": []
  },
  {
   "cell_type": "markdown",
   "metadata": {},
   "source": [
    "**Updating Values:**\n",
    "We can update the entire inner array or some specific data elements of the inner array by reassigning the values using the array index."
   ]
  },
  {
   "cell_type": "code",
   "execution_count": 78,
   "metadata": {},
   "outputs": [
    {
     "name": "stdout",
     "output_type": "stream",
     "text": [
      "11 12 5 7 \n",
      "15 6 10 \n",
      "11 9 \n",
      "12 15 8 6 \n"
     ]
    }
   ],
   "source": [
    "from array import *\n",
    "\n",
    "T = [[11, 12, 5, 2], [15, 6,10], [10, 8, 12, 5], [12,15,8,6]]\n",
    "\n",
    "T[2] = [11,9]\n",
    "T[0][3] = 7\n",
    "for r in T:\n",
    "    for c in r:\n",
    "        print(c,end = \" \")\n",
    "    print()"
   ]
  },
  {
   "cell_type": "markdown",
   "metadata": {},
   "source": [
    "**Deleting the Values:**\n",
    "We can delete the entire inner array or some specific data elements of the inner array by reassigning the values using the del() method with index. But in case you need to remove specific data elements in one of the inner arrays, then use the update process described above."
   ]
  },
  {
   "cell_type": "code",
   "execution_count": 79,
   "metadata": {},
   "outputs": [
    {
     "name": "stdout",
     "output_type": "stream",
     "text": [
      "11 12 5 2 \n",
      "15 6 10 \n",
      "10 8 12 5 \n"
     ]
    }
   ],
   "source": [
    "from array import *\n",
    "T = [[11, 12, 5, 2], [15, 6,10], [10, 8, 12, 5], [12,15,8,6]]\n",
    "\n",
    "del T[3]\n",
    "\n",
    "for r in T:\n",
    "    for c in r:\n",
    "        print(c,end = \" \")\n",
    "    print()"
   ]
  },
  {
   "cell_type": "code",
   "execution_count": 15,
   "metadata": {},
   "outputs": [
    {
     "data": {
      "text/plain": [
       "35"
      ]
     },
     "execution_count": 15,
     "metadata": {},
     "output_type": "execute_result"
    }
   ],
   "source": [
    "def diagonal_sum(nums):\n",
    "    total = 0\n",
    "    for i in range(len(nums)):\n",
    "        total += nums[i][i]\n",
    "    return total\n",
    "\n",
    "arr = [[11, 12, 5, 2], [15, 6,10], [10, 8, 12, 5], [12,15,8,6]]\n",
    "diagonal_sum(arr)"
   ]
  },
  {
   "cell_type": "code",
   "execution_count": null,
   "metadata": {},
   "outputs": [],
   "source": []
  },
  {
   "cell_type": "markdown",
   "metadata": {},
   "source": [
    "## 4. Hash Map\n",
    "\n",
    "What is a Hash table or a Hashmap in Python?\n",
    "In computer science, a Hash table or a Hashmap is a type of data structure that maps keys to its value pairs (implement abstract array data types). It basically makes use of a function that computes an index value that in turn holds the elements to be searched, inserted, removed, etc. This makes it easy and fast to access data. In general, hash tables store key-value pairs and the key is generated using a hash function."
   ]
  },
  {
   "cell_type": "code",
   "execution_count": 63,
   "metadata": {},
   "outputs": [],
   "source": [
    "dict_ = {'Dave' : '001' , 'Ava': '002' , 'Joe': '003'}"
   ]
  },
  {
   "cell_type": "code",
   "execution_count": 65,
   "metadata": {},
   "outputs": [
    {
     "data": {
      "text/plain": [
       "dict_items([('Dave', '001'), ('Ava', '002'), ('Joe', '003')])"
      ]
     },
     "execution_count": 65,
     "metadata": {},
     "output_type": "execute_result"
    }
   ],
   "source": [
    "dict_.items()"
   ]
  },
  {
   "cell_type": "code",
   "execution_count": 66,
   "metadata": {},
   "outputs": [
    {
     "data": {
      "text/plain": [
       "dict_keys(['Dave', 'Ava', 'Joe'])"
      ]
     },
     "execution_count": 66,
     "metadata": {},
     "output_type": "execute_result"
    }
   ],
   "source": [
    "dict_.keys()"
   ]
  },
  {
   "cell_type": "code",
   "execution_count": 64,
   "metadata": {},
   "outputs": [
    {
     "data": {
      "text/plain": [
       "dict_values(['001', '002', '003'])"
      ]
     },
     "execution_count": 64,
     "metadata": {},
     "output_type": "execute_result"
    }
   ],
   "source": [
    "dict_.values()"
   ]
  },
  {
   "cell_type": "code",
   "execution_count": 67,
   "metadata": {},
   "outputs": [
    {
     "data": {
      "text/plain": [
       "'001'"
      ]
     },
     "execution_count": 67,
     "metadata": {},
     "output_type": "execute_result"
    }
   ],
   "source": [
    "dict_.get('Dave')"
   ]
  },
  {
   "cell_type": "code",
   "execution_count": 68,
   "metadata": {},
   "outputs": [],
   "source": [
    "dict_['Dave'] = '010'"
   ]
  },
  {
   "cell_type": "code",
   "execution_count": 69,
   "metadata": {},
   "outputs": [
    {
     "data": {
      "text/plain": [
       "'010'"
      ]
     },
     "execution_count": 69,
     "metadata": {},
     "output_type": "execute_result"
    }
   ],
   "source": [
    "dict_.get('Dave')"
   ]
  },
  {
   "cell_type": "code",
   "execution_count": 71,
   "metadata": {},
   "outputs": [
    {
     "name": "stdout",
     "output_type": "stream",
     "text": [
      "{}\n"
     ]
    }
   ],
   "source": [
    "del dict_['Dave']  #removes key-value pair of 'Dave'\n",
    "dict_.pop('Ava')   #removes the value of 'Ava'\n",
    "dict_.popitem()    #removes the last inserted item\n",
    "print(dict_)"
   ]
  },
  {
   "cell_type": "code",
   "execution_count": null,
   "metadata": {},
   "outputs": [],
   "source": []
  },
  {
   "cell_type": "code",
   "execution_count": null,
   "metadata": {},
   "outputs": [],
   "source": []
  },
  {
   "cell_type": "markdown",
   "metadata": {},
   "source": [
    "## 5. Linked Lists"
   ]
  },
  {
   "cell_type": "code",
   "execution_count": 46,
   "metadata": {},
   "outputs": [],
   "source": [
    "class Node:\n",
    "    def __init__(self, data):\n",
    "        self.data = data\n",
    "        self.next = None"
   ]
  },
  {
   "cell_type": "code",
   "execution_count": 58,
   "metadata": {},
   "outputs": [],
   "source": [
    "class LinkedList:\n",
    "    def __init__(self):\n",
    "        self.head = None\n",
    "        \n",
    "    def printll_(self):\n",
    "        printval = self.head\n",
    "        while printval is not None:\n",
    "            print(printval.data)\n",
    "            printval = printval.next"
   ]
  },
  {
   "cell_type": "code",
   "execution_count": 59,
   "metadata": {},
   "outputs": [],
   "source": [
    "# Creating a linked list and adding the head value\n",
    "ll_ = LinkedList()\n",
    "ll_.head = Node(1)\n",
    "\n",
    "# Create 2 more nodes\n",
    "n2 = Node(2)\n",
    "n3 = Node(3)\n",
    "\n",
    "# Link n2 and n3 with head\n",
    "ll_.head.next = n2\n",
    "n2.next = n3"
   ]
  },
  {
   "cell_type": "code",
   "execution_count": 60,
   "metadata": {},
   "outputs": [
    {
     "name": "stdout",
     "output_type": "stream",
     "text": [
      "1\n",
      "2\n",
      "3\n"
     ]
    }
   ],
   "source": [
    "ll_.printll_()"
   ]
  },
  {
   "cell_type": "markdown",
   "metadata": {},
   "source": [
    "Singly linked lists can be traversed in only forward direction starting form the first data element. We simply print the value of the next data element by assigning the pointer of the next node to the current data element."
   ]
  },
  {
   "cell_type": "markdown",
   "metadata": {},
   "source": [
    "Insertion in a Linked List\n",
    "Inserting element in the linked list involves reassigning the pointers from the existing nodes to the newly inserted node. Depending on whether the new data element is getting inserted at the beginning or at the middle or at the end of the linked list, we have the below scenarios.\n",
    "\n",
    "Inserting at the Beginning\n",
    "This involves pointing the next pointer of the new data node to the current head of the linked list. So the current head of the linked list becomes the second data element and the new node becomes the head of the linked list."
   ]
  },
  {
   "cell_type": "code",
   "execution_count": 61,
   "metadata": {},
   "outputs": [],
   "source": [
    "def AtEnd(self, newdata):\n",
    "      NewNode = Node(newdata)\n",
    "      if self.headval is None:\n",
    "         self.headval = NewNode\n",
    "         return\n",
    "      laste = self.headval\n",
    "      while(laste.nextval):\n",
    "         laste = laste.nextval\n",
    "      laste.nextval=NewNode\n",
    "    \n",
    "    \n",
    "def AtEnd(self, newdata):\n",
    "      NewNode = Node(newdata)\n",
    "      if self.headval is None:\n",
    "         self.headval = NewNode\n",
    "         return\n",
    "      laste = self.headval\n",
    "      while(laste.nextval):\n",
    "         laste = laste.nextval\n",
    "      laste.nextval=NewNode\n",
    "    \n",
    "    \n",
    "def Inbetween(self,middle_node,newdata):\n",
    "      if middle_node is None:\n",
    "         print(\"The mentioned node is absent\")\n",
    "         return\n",
    "\n",
    "      NewNode = Node(newdata)\n",
    "      NewNode.nextval = middle_node.nextval\n",
    "      middle_node.nextval = NewNode\n"
   ]
  },
  {
   "cell_type": "code",
   "execution_count": null,
   "metadata": {},
   "outputs": [],
   "source": []
  },
  {
   "cell_type": "markdown",
   "metadata": {},
   "source": [
    "Removing an Item\n",
    "We can remove an existing node using the key for that node. In the below program we locate the previous node of the node which is to be deleted.Then, point the next pointer of this node to the next node of the node to be deleted."
   ]
  },
  {
   "cell_type": "code",
   "execution_count": null,
   "metadata": {},
   "outputs": [],
   "source": [
    "def RemoveNode(self, Removekey):\n",
    "      HeadVal = self.head\n",
    "         \n",
    "      if (HeadVal is not None):\n",
    "         if (HeadVal.data == Removekey):\n",
    "            self.head = HeadVal.next\n",
    "            HeadVal = None\n",
    "            return\n",
    "      while (HeadVal is not None):\n",
    "         if HeadVal.data == Removekey:\n",
    "            break\n",
    "         prev = HeadVal\n",
    "         HeadVal = HeadVal.next\n",
    "\n",
    "      if (HeadVal == None):\n",
    "         return\n",
    "\n",
    "      prev.next = HeadVal.next\n",
    "         HeadVal = None"
   ]
  },
  {
   "cell_type": "code",
   "execution_count": null,
   "metadata": {},
   "outputs": [],
   "source": [
    "# Node class\n",
    "class Node:\n",
    "\n",
    "    # Initialise the node object\n",
    "    def __init__(self, data):\n",
    "        self.data = data \n",
    "        self.next = None # Initialize next as null\n",
    "\n",
    "\n",
    "# Linked List class\n",
    "class LinkedList:\n",
    "\n",
    "    # Initialize head\n",
    "    def __init__(self):\n",
    "        self.head = None\n",
    "\n",
    "\n",
    "    # Insert a new node at the beginning\n",
    "    def push(self, new_data):\n",
    "\n",
    "        # Allocate the Node & add data\n",
    "        new_node = Node(new_data)\n",
    "        \n",
    "        # Make next of new Node as head\n",
    "        new_node.next = self.head\n",
    "\n",
    "        # Update new_node as head\n",
    "        self.head = new_node\n",
    "\n",
    "\n",
    "\n",
    "    # Inserts a new node after the given prev_node. \n",
    "    def insertAfter(self, prev_node, new_data):\n",
    "\n",
    "        if prev_node is None:\n",
    "            print \"No previous node\"\n",
    "            return\n",
    "\n",
    "        new_node = Node(new_data)\n",
    "        new_node.next = prev_node.next\n",
    "        prev_node.next = new_node\n",
    "\n",
    "\n",
    "    # Appends a new node at the end. \n",
    "    def append(self, new_data):\n",
    "\n",
    "        new_node = Node(new_data)\n",
    "\n",
    "        if self.head is None:\n",
    "            self.head = new_node\n",
    "            return\n",
    "\n",
    "        # If not null traverse till the last node\n",
    "        last = self.head\n",
    "        while (last.next):\n",
    "            last = last.next\n",
    "\n",
    "        # Update new node as last\n",
    "        last.next = new_node"
   ]
  },
  {
   "cell_type": "markdown",
   "metadata": {},
   "source": [
    "https://www.geeksforgeeks.org/delete-a-linked-list-node-at-a-given-position/"
   ]
  },
  {
   "cell_type": "code",
   "execution_count": null,
   "metadata": {},
   "outputs": [],
   "source": []
  },
  {
   "cell_type": "markdown",
   "metadata": {},
   "source": [
    "## 6. Binary Trees\n",
    "\n",
    "\n",
    "Full Binary Tree A Binary Tree is a full binary tree if every node has 0 or 2 children. The following are the examples of a full binary tree. We can also say a full binary tree is a binary tree in which all nodes except leaf nodes have two children. \n",
    "\n",
    "               18\n",
    "           /       \\  \n",
    "         15         30  \n",
    "        /  \\        /  \\\n",
    "      40    50    100   40\n",
    "\n",
    "             18\n",
    "           /    \\   \n",
    "         15     20    \n",
    "        /  \\       \n",
    "      40    50   \n",
    "    /   \\\n",
    "   30   50\n",
    "\n",
    "               18\n",
    "            /     \\  \n",
    "          40       30  \n",
    "                   /  \\\n",
    "                 100   40\n",
    "                 \n",
    "                 \n",
    "                 \n",
    "Complete Binary Tree: A Binary Tree is a Complete Binary Tree if all the levels are completely filled except possibly the last level and the last level has all keys as left as possible \n",
    "\n",
    "               18\n",
    "           /       \\  \n",
    "         15         30  \n",
    "        /  \\        /  \\\n",
    "      40    50    100   40\n",
    "\n",
    "\n",
    "               18\n",
    "           /       \\  \n",
    "         15         30  \n",
    "        /  \\        /  \\\n",
    "      40    50    100   40\n",
    "     /  \\   /\n",
    "    8   7  9 \n",
    "    \n",
    "    \n",
    "Perfect Binary Tree A Binary tree is a Perfect Binary Tree in which all the internal nodes have two children and all leaf nodes are at the same level. \n",
    "The following are the examples of Perfect Binary Trees. \n",
    "\n",
    "               18\n",
    "           /       \\  \n",
    "         15         30  \n",
    "        /  \\        /  \\\n",
    "      40    50    100   40\n",
    "\n",
    "\n",
    "               18\n",
    "           /       \\  \n",
    "         15         30  \n",
    "\n",
    "Balanced Binary Tree \n",
    "A binary tree is balanced if the height of the tree is O(Log n) where n is the number of nodes. For Example, the AVL tree maintains O(Log n) height by making sure that the difference between the heights of the left and right subtrees is at most 1. Red-Black trees maintain O(Log n) height by making sure that the number of Black nodes on every root to leaf paths is the same and there are no adjacent red nodes. Balanced Binary Search trees are performance-wise good as they provide O(log n) time for search, insert and delete. \n",
    "\n",
    "A degenerate (or pathological) tree A Tree where every internal node has one child. Such trees are performance-wise same as linked list. \n",
    "      10\n",
    "      /\n",
    "    20\n",
    "     \\\n",
    "     30\n",
    "      \\\n",
    "      40     "
   ]
  },
  {
   "cell_type": "markdown",
   "metadata": {},
   "source": [
    "1) The maximum number of nodes at level ‘l’ of a binary tree is 2l. \n",
    "Here level is the number of nodes on the path from the root to the node (including root and node). Level of the root is 0. \n",
    "This can be proved by induction. \n",
    "For root, l = 0, number of nodes = 20 = 1 \n",
    "Assume that the maximum number of nodes on level ‘l’ is 2l \n",
    "Since in Binary tree every node has at most 2 children, next level would have twice nodes, i.e. 2 * 2l \n",
    "\n",
    "2) The Maximum number of nodes in a binary tree of height ‘h’ is 2h – 1. \n",
    "Here the height of a tree is the maximum number of nodes on the root to leaf path. Height of a tree with a single node is considered as 1. \n",
    "This result can be derived from point 2 above. A tree has maximum nodes if all levels have maximum nodes. So maximum number of nodes in a binary tree of height h is 1 + 2 + 4 + .. + 2h. This is a simple geometric series with h terms and sum of this series is 2h– 1. \n",
    "In some books, the height of the root is considered as 0. In this convention, the above formula becomes 2h+1 – 1 \n",
    "\n",
    "3) In a Binary Tree with N nodes, minimum possible height or the minimum number of levels is? Log2(N+1) ?   \n",
    "This can be directly derived from point 2 above. If we consider the convention where the height of a root node is considered as 0, then above formula for minimum possible height becomes | Log2(N+1) | – 1 \n",
    "\n",
    "4) A Binary Tree with L leaves has at least | Log2L? |+ 1   levels \n",
    "A Binary tree has the maximum number of leaves (and a minimum number of levels) when all levels are fully filled. Let all leaves be at level l, then below is true for the number of leaves L. "
   ]
  },
  {
   "cell_type": "code",
   "execution_count": null,
   "metadata": {},
   "outputs": [],
   "source": []
  },
  {
   "cell_type": "code",
   "execution_count": null,
   "metadata": {},
   "outputs": [],
   "source": []
  }
 ],
 "metadata": {
  "kernelspec": {
   "display_name": "Python 3",
   "language": "python",
   "name": "python3"
  },
  "language_info": {
   "codemirror_mode": {
    "name": "ipython",
    "version": 3
   },
   "file_extension": ".py",
   "mimetype": "text/x-python",
   "name": "python",
   "nbconvert_exporter": "python",
   "pygments_lexer": "ipython3",
   "version": "3.8.3"
  }
 },
 "nbformat": 4,
 "nbformat_minor": 4
}
